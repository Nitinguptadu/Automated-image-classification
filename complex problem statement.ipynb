{
 "cells": [
  {
   "cell_type": "code",
   "execution_count": 1,
   "metadata": {},
   "outputs": [],
   "source": [
    "import pandas as pd\n",
    "import numpy as np"
   ]
  },
  {
   "cell_type": "code",
   "execution_count": 2,
   "metadata": {},
   "outputs": [],
   "source": [
    "df1 = pd.read_excel(\"train.xlsx\")"
   ]
  },
  {
   "cell_type": "code",
   "execution_count": 3,
   "metadata": {},
   "outputs": [],
   "source": [
    "def save():\n",
    "     if df1[\"category\"].value_counts()[0] != df1[\"category\"].value_counts()[1]:\n",
    "        print(\"yes\")\n",
    "        if df1[\"category\"].value_counts()[0] >= df1[\"category\"].value_counts()[1]: # cat [5172] >= Dog [4804]\n",
    "            k = df1[\"category\"].value_counts()[0] - df1[\"category\"].value_counts()[1] # Dog [5172] - cat [4804]\n",
    "            cat = df1.loc[df1['category'] == \"cat\"] # creating Dataframe that contains only cat data\n",
    "            dog = df1.loc[df1['category'] == \"dog\"] # creating Dataframe that contains only Dog data\n",
    "            example_df = cat.sample(n=df1[\"category\"].value_counts()[1]).reset_index(drop=True) # Droping 384 value from Cat column\n",
    "            t = pd.concat([example_df,dog],axis =0) #concating both DataFrame\n",
    "            return t\n",
    "            \n",
    "        elif df1[\"category\"].value_counts()[1] >= df1[\"category\"].value_counts()[0]: # 4804 >= 5172\n",
    "            k = df1[\"category\"].value_counts()[1] - df1[\"category\"].value_counts()[0] # same as above \n",
    "            cat = df1.loc[df1['category'] == \"cat\"]\n",
    "            dog = df1.loc[df1['category'] == \"dog\"]\n",
    "            example_df = dog.sample(n=df1[\"category\"].value_counts()[0]).reset_index(drop=True)\n",
    "            t1 = pd.concat([example_df,cat],axis =0)\n",
    "            return t1\n",
    "            \n",
    "            "
   ]
  },
  {
   "cell_type": "code",
   "execution_count": 4,
   "metadata": {},
   "outputs": [
    {
     "name": "stdout",
     "output_type": "stream",
     "text": [
      "yes\n"
     ]
    }
   ],
   "source": [
    "df = save()"
   ]
  },
  {
   "cell_type": "code",
   "execution_count": 5,
   "metadata": {},
   "outputs": [
    {
     "data": {
      "text/html": [
       "<div>\n",
       "<style scoped>\n",
       "    .dataframe tbody tr th:only-of-type {\n",
       "        vertical-align: middle;\n",
       "    }\n",
       "\n",
       "    .dataframe tbody tr th {\n",
       "        vertical-align: top;\n",
       "    }\n",
       "\n",
       "    .dataframe thead th {\n",
       "        text-align: right;\n",
       "    }\n",
       "</style>\n",
       "<table border=\"1\" class=\"dataframe\">\n",
       "  <thead>\n",
       "    <tr style=\"text-align: right;\">\n",
       "      <th></th>\n",
       "      <th>Unnamed: 0</th>\n",
       "      <th>filename</th>\n",
       "      <th>category</th>\n",
       "    </tr>\n",
       "  </thead>\n",
       "  <tbody>\n",
       "    <tr>\n",
       "      <th>0</th>\n",
       "      <td>5315</td>\n",
       "      <td>9805.jpg</td>\n",
       "      <td>cat</td>\n",
       "    </tr>\n",
       "    <tr>\n",
       "      <th>1</th>\n",
       "      <td>4698</td>\n",
       "      <td>11783.jpg</td>\n",
       "      <td>cat</td>\n",
       "    </tr>\n",
       "    <tr>\n",
       "      <th>2</th>\n",
       "      <td>12015</td>\n",
       "      <td>8747.jpg</td>\n",
       "      <td>cat</td>\n",
       "    </tr>\n",
       "    <tr>\n",
       "      <th>3</th>\n",
       "      <td>9868</td>\n",
       "      <td>2166.jpg</td>\n",
       "      <td>cat</td>\n",
       "    </tr>\n",
       "    <tr>\n",
       "      <th>4</th>\n",
       "      <td>1915</td>\n",
       "      <td>7418.jpg</td>\n",
       "      <td>cat</td>\n",
       "    </tr>\n",
       "    <tr>\n",
       "      <th>...</th>\n",
       "      <td>...</td>\n",
       "      <td>...</td>\n",
       "      <td>...</td>\n",
       "    </tr>\n",
       "    <tr>\n",
       "      <th>9968</th>\n",
       "      <td>6265</td>\n",
       "      <td>9777.jpg</td>\n",
       "      <td>dog</td>\n",
       "    </tr>\n",
       "    <tr>\n",
       "      <th>9969</th>\n",
       "      <td>5734</td>\n",
       "      <td>8169.jpg</td>\n",
       "      <td>dog</td>\n",
       "    </tr>\n",
       "    <tr>\n",
       "      <th>9970</th>\n",
       "      <td>11284</td>\n",
       "      <td>241.jpg</td>\n",
       "      <td>dog</td>\n",
       "    </tr>\n",
       "    <tr>\n",
       "      <th>9974</th>\n",
       "      <td>860</td>\n",
       "      <td>10427.jpg</td>\n",
       "      <td>dog</td>\n",
       "    </tr>\n",
       "    <tr>\n",
       "      <th>9975</th>\n",
       "      <td>7270</td>\n",
       "      <td>3455.jpg</td>\n",
       "      <td>dog</td>\n",
       "    </tr>\n",
       "  </tbody>\n",
       "</table>\n",
       "<p>9608 rows × 3 columns</p>\n",
       "</div>"
      ],
      "text/plain": [
       "      Unnamed: 0   filename category\n",
       "0           5315   9805.jpg      cat\n",
       "1           4698  11783.jpg      cat\n",
       "2          12015   8747.jpg      cat\n",
       "3           9868   2166.jpg      cat\n",
       "4           1915   7418.jpg      cat\n",
       "...          ...        ...      ...\n",
       "9968        6265   9777.jpg      dog\n",
       "9969        5734   8169.jpg      dog\n",
       "9970       11284    241.jpg      dog\n",
       "9974         860  10427.jpg      dog\n",
       "9975        7270   3455.jpg      dog\n",
       "\n",
       "[9608 rows x 3 columns]"
      ]
     },
     "execution_count": 5,
     "metadata": {},
     "output_type": "execute_result"
    }
   ],
   "source": [
    "df"
   ]
  },
  {
   "cell_type": "code",
   "execution_count": null,
   "metadata": {},
   "outputs": [],
   "source": []
  }
 ],
 "metadata": {
  "kernelspec": {
   "display_name": "Python 3",
   "language": "python",
   "name": "python3"
  },
  "language_info": {
   "codemirror_mode": {
    "name": "ipython",
    "version": 3
   },
   "file_extension": ".py",
   "mimetype": "text/x-python",
   "name": "python",
   "nbconvert_exporter": "python",
   "pygments_lexer": "ipython3",
   "version": "3.7.5"
  }
 },
 "nbformat": 4,
 "nbformat_minor": 2
}
