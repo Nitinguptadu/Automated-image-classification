{
 "cells": [
  {
   "cell_type": "code",
   "execution_count": 1,
   "metadata": {},
   "outputs": [],
   "source": [
    "import pandas as pd\n",
    "import numpy as np"
   ]
  },
  {
   "cell_type": "code",
   "execution_count": 2,
   "metadata": {},
   "outputs": [],
   "source": [
    "df1 = pd.read_excel(\"train.xlsx\")"
   ]
  },
  {
   "cell_type": "code",
   "execution_count": 3,
   "metadata": {},
   "outputs": [
    {
     "name": "stdout",
     "output_type": "stream",
     "text": [
      "yes\n"
     ]
    }
   ],
   "source": [
    " if df1[\"category\"].value_counts()[0] != df1[\"category\"].value_counts()[1]:\n",
    "        print(\"yes\")\n",
    "        if df1[\"category\"].value_counts()[0] >= df1[\"category\"].value_counts()[1]: # cat\n",
    "            k = df1[\"category\"].value_counts()[0] - df1[\"category\"].value_counts()[1]\n",
    "            cat = df1.loc[df1['category'] == \"cat\"]\n",
    "            dog = df1.loc[df1['category'] == \"dog\"]\n",
    "            example_df = cat.sample(n=df1[\"category\"].value_counts()[1]).reset_index(drop=True)\n",
    "            t1 = pd.concat([example_df,dog],axis =0)\n",
    "            \n",
    "        elif df1[\"category\"].value_counts()[1] >= df1[\"category\"].value_counts()[0]:\n",
    "            k = df1[\"category\"].value_counts()[1] - df1[\"category\"].value_counts()[0]\n",
    "            cat = df1.loc[df1['category'] == \"cat\"]\n",
    "            dog = df1.loc[df1['category'] == \"dog\"]\n",
    "            example_df = dog.sample(n=df1[\"category\"].value_counts()[0]).reset_index(drop=True)\n",
    "            t1 = pd.concat([example_df,cat],axis =0)\n",
    "            \n",
    "            \n",
    "          \n",
    "            \n",
    "                "
   ]
  },
  {
   "cell_type": "code",
   "execution_count": 5,
   "metadata": {},
   "outputs": [],
   "source": [
    "def save():\n",
    "     if df1[\"category\"].value_counts()[0] != df1[\"category\"].value_counts()[1]:\n",
    "        print(\"yes\")\n",
    "        if df1[\"category\"].value_counts()[0] >= df1[\"category\"].value_counts()[1]: # cat\n",
    "            k = df1[\"category\"].value_counts()[0] - df1[\"category\"].value_counts()[1]\n",
    "            cat = df1.loc[df1['category'] == \"cat\"]\n",
    "            dog = df1.loc[df1['category'] == \"dog\"]\n",
    "            example_df = cat.sample(n=df1[\"category\"].value_counts()[1]).reset_index(drop=True)\n",
    "            t = pd.concat([example_df,dog],axis =0)\n",
    "            \n",
    "        elif df1[\"category\"].value_counts()[1] >= df1[\"category\"].value_counts()[0]:\n",
    "            k = df1[\"category\"].value_counts()[1] - df1[\"category\"].value_counts()[0]\n",
    "            cat = df1.loc[df1['category'] == \"cat\"]\n",
    "            dog = df1.loc[df1['category'] == \"dog\"]\n",
    "            example_df = dog.sample(n=df1[\"category\"].value_counts()[0]).reset_index(drop=True)\n",
    "            t1 = pd.concat([example_df,cat],axis =0)\n",
    "            return t,t1\n",
    "            "
   ]
  },
  {
   "cell_type": "code",
   "execution_count": 11,
   "metadata": {},
   "outputs": [
    {
     "name": "stdout",
     "output_type": "stream",
     "text": [
      "yes\n"
     ]
    }
   ],
   "source": [
    "df = save()"
   ]
  },
  {
   "cell_type": "code",
   "execution_count": 12,
   "metadata": {},
   "outputs": [],
   "source": [
    "df"
   ]
  },
  {
   "cell_type": "code",
   "execution_count": null,
   "metadata": {},
   "outputs": [],
   "source": []
  }
 ],
 "metadata": {
  "kernelspec": {
   "display_name": "Python 3",
   "language": "python",
   "name": "python3"
  },
  "language_info": {
   "codemirror_mode": {
    "name": "ipython",
    "version": 3
   },
   "file_extension": ".py",
   "mimetype": "text/x-python",
   "name": "python",
   "nbconvert_exporter": "python",
   "pygments_lexer": "ipython3",
   "version": "3.7.5"
  }
 },
 "nbformat": 4,
 "nbformat_minor": 2
}
