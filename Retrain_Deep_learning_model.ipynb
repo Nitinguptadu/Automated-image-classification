{
 "cells": [
  {
   "cell_type": "code",
   "execution_count": 1,
   "metadata": {},
   "outputs": [
    {
     "name": "stderr",
     "output_type": "stream",
     "text": [
      "Using TensorFlow backend.\n"
     ]
    }
   ],
   "source": [
    "import pymongo\n",
    "import pandas as pd\n",
    "import numpy as np\n",
    "from sklearn import datasets\n",
    "import pickle\n",
    "import time\n",
    "import pymongo\n",
    "import numpy as np\n",
    "import pandas as pd \n",
    "from keras.preprocessing.image import ImageDataGenerator, load_img\n",
    "from keras.utils import to_categorical\n",
    "from sklearn.model_selection import train_test_split\n",
    "import matplotlib.pyplot as plt\n",
    "from keras.layers import Input, Lambda, Dense, Flatten\n",
    "from keras.models import Model\n",
    "import random\n",
    "from pymongo import MongoClient\n",
    "import pandas as pd\n",
    "import os\n",
    "import base64\n",
    "import numpy as np\n",
    "\n",
    "from PIL import Image\n",
    "from io import BytesIO"
   ]
  },
  {
   "cell_type": "markdown",
   "metadata": {},
   "source": [
    "# Loading Tranined Model for Retrain on Prediction Data"
   ]
  },
  {
   "cell_type": "code",
   "execution_count": 2,
   "metadata": {},
   "outputs": [],
   "source": [
    "def load_saved_model_from_db(model_name, client, db, dbconnection):\n",
    "    json_data = {}\n",
    "    \n",
    "    #saving model to mongoDB\n",
    "    # creating connection\n",
    "    myclient = pymongo.MongoClient(client)\n",
    "    \n",
    "    #creating database in mongodb\n",
    "    mydb = myclient[db]\n",
    "    \n",
    "    #creating collection\n",
    "    mycon = mydb[dbconnection]\n",
    "    data = mycon.find({'name': model_name})\n",
    "    \n",
    "    \n",
    "    for i in data:\n",
    "        json_data = i\n",
    "    #fetching model from db\n",
    "    pickled_model = json_data[model_name]\n",
    "    \n",
    "    return pickle.loads(pickled_model)"
   ]
  },
  {
   "cell_type": "code",
   "execution_count": 3,
   "metadata": {},
   "outputs": [],
   "source": [
    "details = {\n",
    "        'inserted_id':\"ObjectId('5eb3e0954668994dc15066e2')\",\n",
    "        'model_name':\"CNN\",\n",
    "        'created_time':1588846741.541345 }"
   ]
  },
  {
   "cell_type": "code",
   "execution_count": 4,
   "metadata": {},
   "outputs": [],
   "source": [
    "model  = load_saved_model_from_db(model_name = details['model_name'], client = 'mongodb://localhost:27017/', \n",
    "                         db = 'Cat_dog_classifier', dbconnection = 'Model_Accuracy_95.0%')"
   ]
  },
  {
   "cell_type": "markdown",
   "metadata": {},
   "source": [
    "# Loading Prediction Data with Accuracy More than 95% and base_64 string to convert it into orginal image and save in local Dir  for retraning the Model "
   ]
  },
  {
   "cell_type": "code",
   "execution_count": 5,
   "metadata": {},
   "outputs": [],
   "source": [
    "import pymongo\n",
    "\n",
    "client=pymongo.MongoClient('mongodb://127.0.0.1:27017/')\n",
    "\n",
    "db=client['Cat_dog_classifier']\n",
    "Model_Accuracy_95_prediction = db.Model_Accuracy_95_prediction"
   ]
  },
  {
   "cell_type": "code",
   "execution_count": 6,
   "metadata": {},
   "outputs": [],
   "source": [
    "def importing_data():\n",
    "    train = []\n",
    "    for record in Model_Accuracy_95_prediction.find({'Prediction':{'$gt':99.0}}):\n",
    "        train.append(record)\n",
    "    return train"
   ]
  },
  {
   "cell_type": "code",
   "execution_count": 7,
   "metadata": {},
   "outputs": [],
   "source": [
    "df = importing_data()"
   ]
  },
  {
   "cell_type": "code",
   "execution_count": 8,
   "metadata": {},
   "outputs": [],
   "source": [
    "df = pd.DataFrame(df)"
   ]
  },
  {
   "cell_type": "code",
   "execution_count": 9,
   "metadata": {},
   "outputs": [
    {
     "data": {
      "text/html": [
       "<div>\n",
       "<style scoped>\n",
       "    .dataframe tbody tr th:only-of-type {\n",
       "        vertical-align: middle;\n",
       "    }\n",
       "\n",
       "    .dataframe tbody tr th {\n",
       "        vertical-align: top;\n",
       "    }\n",
       "\n",
       "    .dataframe thead th {\n",
       "        text-align: right;\n",
       "    }\n",
       "</style>\n",
       "<table border=\"1\" class=\"dataframe\">\n",
       "  <thead>\n",
       "    <tr style=\"text-align: right;\">\n",
       "      <th></th>\n",
       "      <th>_id</th>\n",
       "      <th>filename</th>\n",
       "      <th>category</th>\n",
       "      <th>Dog</th>\n",
       "      <th>Cat</th>\n",
       "      <th>Prediction</th>\n",
       "      <th>Time</th>\n",
       "      <th>Date</th>\n",
       "      <th>Image_string_base_64</th>\n",
       "    </tr>\n",
       "  </thead>\n",
       "  <tbody>\n",
       "    <tr>\n",
       "      <th>0</th>\n",
       "      <td>5eb7e2246b499e4d1db3dbea</td>\n",
       "      <td>11835.jpg</td>\n",
       "      <td>dog</td>\n",
       "      <td>0.0</td>\n",
       "      <td>1.000000e+02</td>\n",
       "      <td>100.0</td>\n",
       "      <td>16:44:42</td>\n",
       "      <td>2020-05-10</td>\n",
       "      <td>b'/9j/4AAQSkZJRgABAQAAAQABAAD/2wBDAAoHBwgHBgoI...</td>\n",
       "    </tr>\n",
       "    <tr>\n",
       "      <th>1</th>\n",
       "      <td>5eb7e2246b499e4d1db3dbeb</td>\n",
       "      <td>4737.jpg</td>\n",
       "      <td>dog</td>\n",
       "      <td>0.0</td>\n",
       "      <td>1.000000e+02</td>\n",
       "      <td>100.0</td>\n",
       "      <td>16:44:42</td>\n",
       "      <td>2020-05-10</td>\n",
       "      <td>b'/9j/4AAQSkZJRgABAQAAAQABAAD/2wBDAAoHBwgHBgoI...</td>\n",
       "    </tr>\n",
       "    <tr>\n",
       "      <th>2</th>\n",
       "      <td>5eb7e2246b499e4d1db3dbec</td>\n",
       "      <td>3323.jpg</td>\n",
       "      <td>dog</td>\n",
       "      <td>0.0</td>\n",
       "      <td>1.000000e+02</td>\n",
       "      <td>100.0</td>\n",
       "      <td>16:44:42</td>\n",
       "      <td>2020-05-10</td>\n",
       "      <td>b'/9j/4AAQSkZJRgABAQAAAQABAAD/2wBDAAoHBwgHBgoI...</td>\n",
       "    </tr>\n",
       "    <tr>\n",
       "      <th>3</th>\n",
       "      <td>5eb7e2246b499e4d1db3dbed</td>\n",
       "      <td>4758.jpg</td>\n",
       "      <td>cat</td>\n",
       "      <td>100.0</td>\n",
       "      <td>0.000000e+00</td>\n",
       "      <td>100.0</td>\n",
       "      <td>16:44:42</td>\n",
       "      <td>2020-05-10</td>\n",
       "      <td>b'/9j/4AAQSkZJRgABAQAAAQABAAD/2wBDAAoHBwgHBgoI...</td>\n",
       "    </tr>\n",
       "    <tr>\n",
       "      <th>4</th>\n",
       "      <td>5eb7e2246b499e4d1db3dbee</td>\n",
       "      <td>5678.jpg</td>\n",
       "      <td>cat</td>\n",
       "      <td>100.0</td>\n",
       "      <td>0.000000e+00</td>\n",
       "      <td>100.0</td>\n",
       "      <td>16:44:42</td>\n",
       "      <td>2020-05-10</td>\n",
       "      <td>b'/9j/4AAQSkZJRgABAQAAAQABAAD/2wBDAAoHBwgHBgoI...</td>\n",
       "    </tr>\n",
       "    <tr>\n",
       "      <th>...</th>\n",
       "      <td>...</td>\n",
       "      <td>...</td>\n",
       "      <td>...</td>\n",
       "      <td>...</td>\n",
       "      <td>...</td>\n",
       "      <td>...</td>\n",
       "      <td>...</td>\n",
       "      <td>...</td>\n",
       "      <td>...</td>\n",
       "    </tr>\n",
       "    <tr>\n",
       "      <th>12447</th>\n",
       "      <td>5eb7e2246b499e4d1db40cb9</td>\n",
       "      <td>6422.jpg</td>\n",
       "      <td>dog</td>\n",
       "      <td>0.0</td>\n",
       "      <td>1.000000e+02</td>\n",
       "      <td>100.0</td>\n",
       "      <td>16:44:43</td>\n",
       "      <td>2020-05-10</td>\n",
       "      <td>b'/9j/4AAQSkZJRgABAQAAAQABAAD/2wBDAAoHBwgHBgoI...</td>\n",
       "    </tr>\n",
       "    <tr>\n",
       "      <th>12448</th>\n",
       "      <td>5eb7e2246b499e4d1db40cba</td>\n",
       "      <td>3040.jpg</td>\n",
       "      <td>cat</td>\n",
       "      <td>100.0</td>\n",
       "      <td>0.000000e+00</td>\n",
       "      <td>100.0</td>\n",
       "      <td>16:44:43</td>\n",
       "      <td>2020-05-10</td>\n",
       "      <td>b'/9j/4AAQSkZJRgABAQAAAQABAAD/2wBDAAoHBwgHBgoI...</td>\n",
       "    </tr>\n",
       "    <tr>\n",
       "      <th>12449</th>\n",
       "      <td>5eb7e2246b499e4d1db40cbb</td>\n",
       "      <td>10816.jpg</td>\n",
       "      <td>cat</td>\n",
       "      <td>100.0</td>\n",
       "      <td>0.000000e+00</td>\n",
       "      <td>100.0</td>\n",
       "      <td>16:44:43</td>\n",
       "      <td>2020-05-10</td>\n",
       "      <td>b'/9j/4AAQSkZJRgABAQAAAQABAAD/2wBDAAoHBwgHBgoI...</td>\n",
       "    </tr>\n",
       "    <tr>\n",
       "      <th>12450</th>\n",
       "      <td>5eb7e2246b499e4d1db40cbc</td>\n",
       "      <td>2124.jpg</td>\n",
       "      <td>dog</td>\n",
       "      <td>0.0</td>\n",
       "      <td>1.000000e+02</td>\n",
       "      <td>100.0</td>\n",
       "      <td>16:44:43</td>\n",
       "      <td>2020-05-10</td>\n",
       "      <td>b'/9j/4AAQSkZJRgABAQAAAQABAAD/2wBDAAoHBwgHBgoI...</td>\n",
       "    </tr>\n",
       "    <tr>\n",
       "      <th>12451</th>\n",
       "      <td>5eb7e2246b499e4d1db40cbd</td>\n",
       "      <td>11739.jpg</td>\n",
       "      <td>cat</td>\n",
       "      <td>100.0</td>\n",
       "      <td>8.758586e-24</td>\n",
       "      <td>100.0</td>\n",
       "      <td>16:44:43</td>\n",
       "      <td>2020-05-10</td>\n",
       "      <td>b'/9j/4AAQSkZJRgABAQAAAQABAAD/2wBDAAoHBwgHBgoI...</td>\n",
       "    </tr>\n",
       "  </tbody>\n",
       "</table>\n",
       "<p>12452 rows × 9 columns</p>\n",
       "</div>"
      ],
      "text/plain": [
       "                            _id   filename category    Dog           Cat  \\\n",
       "0      5eb7e2246b499e4d1db3dbea  11835.jpg      dog    0.0  1.000000e+02   \n",
       "1      5eb7e2246b499e4d1db3dbeb   4737.jpg      dog    0.0  1.000000e+02   \n",
       "2      5eb7e2246b499e4d1db3dbec   3323.jpg      dog    0.0  1.000000e+02   \n",
       "3      5eb7e2246b499e4d1db3dbed   4758.jpg      cat  100.0  0.000000e+00   \n",
       "4      5eb7e2246b499e4d1db3dbee   5678.jpg      cat  100.0  0.000000e+00   \n",
       "...                         ...        ...      ...    ...           ...   \n",
       "12447  5eb7e2246b499e4d1db40cb9   6422.jpg      dog    0.0  1.000000e+02   \n",
       "12448  5eb7e2246b499e4d1db40cba   3040.jpg      cat  100.0  0.000000e+00   \n",
       "12449  5eb7e2246b499e4d1db40cbb  10816.jpg      cat  100.0  0.000000e+00   \n",
       "12450  5eb7e2246b499e4d1db40cbc   2124.jpg      dog    0.0  1.000000e+02   \n",
       "12451  5eb7e2246b499e4d1db40cbd  11739.jpg      cat  100.0  8.758586e-24   \n",
       "\n",
       "       Prediction      Time        Date  \\\n",
       "0           100.0  16:44:42  2020-05-10   \n",
       "1           100.0  16:44:42  2020-05-10   \n",
       "2           100.0  16:44:42  2020-05-10   \n",
       "3           100.0  16:44:42  2020-05-10   \n",
       "4           100.0  16:44:42  2020-05-10   \n",
       "...           ...       ...         ...   \n",
       "12447       100.0  16:44:43  2020-05-10   \n",
       "12448       100.0  16:44:43  2020-05-10   \n",
       "12449       100.0  16:44:43  2020-05-10   \n",
       "12450       100.0  16:44:43  2020-05-10   \n",
       "12451       100.0  16:44:43  2020-05-10   \n",
       "\n",
       "                                    Image_string_base_64  \n",
       "0      b'/9j/4AAQSkZJRgABAQAAAQABAAD/2wBDAAoHBwgHBgoI...  \n",
       "1      b'/9j/4AAQSkZJRgABAQAAAQABAAD/2wBDAAoHBwgHBgoI...  \n",
       "2      b'/9j/4AAQSkZJRgABAQAAAQABAAD/2wBDAAoHBwgHBgoI...  \n",
       "3      b'/9j/4AAQSkZJRgABAQAAAQABAAD/2wBDAAoHBwgHBgoI...  \n",
       "4      b'/9j/4AAQSkZJRgABAQAAAQABAAD/2wBDAAoHBwgHBgoI...  \n",
       "...                                                  ...  \n",
       "12447  b'/9j/4AAQSkZJRgABAQAAAQABAAD/2wBDAAoHBwgHBgoI...  \n",
       "12448  b'/9j/4AAQSkZJRgABAQAAAQABAAD/2wBDAAoHBwgHBgoI...  \n",
       "12449  b'/9j/4AAQSkZJRgABAQAAAQABAAD/2wBDAAoHBwgHBgoI...  \n",
       "12450  b'/9j/4AAQSkZJRgABAQAAAQABAAD/2wBDAAoHBwgHBgoI...  \n",
       "12451  b'/9j/4AAQSkZJRgABAQAAAQABAAD/2wBDAAoHBwgHBgoI...  \n",
       "\n",
       "[12452 rows x 9 columns]"
      ]
     },
     "execution_count": 9,
     "metadata": {},
     "output_type": "execute_result"
    }
   ],
   "source": [
    "df"
   ]
  },
  {
   "cell_type": "markdown",
   "metadata": {},
   "source": [
    "# Droping Unecessary Coloums from Dataframe  "
   ]
  },
  {
   "cell_type": "code",
   "execution_count": 10,
   "metadata": {},
   "outputs": [],
   "source": [
    "df = df.drop(['_id','Dog','Cat','Prediction',\"Time\",\"Date\"], axis = 1) "
   ]
  },
  {
   "cell_type": "code",
   "execution_count": 11,
   "metadata": {},
   "outputs": [
    {
     "data": {
      "text/html": [
       "<div>\n",
       "<style scoped>\n",
       "    .dataframe tbody tr th:only-of-type {\n",
       "        vertical-align: middle;\n",
       "    }\n",
       "\n",
       "    .dataframe tbody tr th {\n",
       "        vertical-align: top;\n",
       "    }\n",
       "\n",
       "    .dataframe thead th {\n",
       "        text-align: right;\n",
       "    }\n",
       "</style>\n",
       "<table border=\"1\" class=\"dataframe\">\n",
       "  <thead>\n",
       "    <tr style=\"text-align: right;\">\n",
       "      <th></th>\n",
       "      <th>filename</th>\n",
       "      <th>category</th>\n",
       "      <th>Image_string_base_64</th>\n",
       "    </tr>\n",
       "  </thead>\n",
       "  <tbody>\n",
       "    <tr>\n",
       "      <th>0</th>\n",
       "      <td>11835.jpg</td>\n",
       "      <td>dog</td>\n",
       "      <td>b'/9j/4AAQSkZJRgABAQAAAQABAAD/2wBDAAoHBwgHBgoI...</td>\n",
       "    </tr>\n",
       "    <tr>\n",
       "      <th>1</th>\n",
       "      <td>4737.jpg</td>\n",
       "      <td>dog</td>\n",
       "      <td>b'/9j/4AAQSkZJRgABAQAAAQABAAD/2wBDAAoHBwgHBgoI...</td>\n",
       "    </tr>\n",
       "    <tr>\n",
       "      <th>2</th>\n",
       "      <td>3323.jpg</td>\n",
       "      <td>dog</td>\n",
       "      <td>b'/9j/4AAQSkZJRgABAQAAAQABAAD/2wBDAAoHBwgHBgoI...</td>\n",
       "    </tr>\n",
       "    <tr>\n",
       "      <th>3</th>\n",
       "      <td>4758.jpg</td>\n",
       "      <td>cat</td>\n",
       "      <td>b'/9j/4AAQSkZJRgABAQAAAQABAAD/2wBDAAoHBwgHBgoI...</td>\n",
       "    </tr>\n",
       "    <tr>\n",
       "      <th>4</th>\n",
       "      <td>5678.jpg</td>\n",
       "      <td>cat</td>\n",
       "      <td>b'/9j/4AAQSkZJRgABAQAAAQABAAD/2wBDAAoHBwgHBgoI...</td>\n",
       "    </tr>\n",
       "    <tr>\n",
       "      <th>...</th>\n",
       "      <td>...</td>\n",
       "      <td>...</td>\n",
       "      <td>...</td>\n",
       "    </tr>\n",
       "    <tr>\n",
       "      <th>12447</th>\n",
       "      <td>6422.jpg</td>\n",
       "      <td>dog</td>\n",
       "      <td>b'/9j/4AAQSkZJRgABAQAAAQABAAD/2wBDAAoHBwgHBgoI...</td>\n",
       "    </tr>\n",
       "    <tr>\n",
       "      <th>12448</th>\n",
       "      <td>3040.jpg</td>\n",
       "      <td>cat</td>\n",
       "      <td>b'/9j/4AAQSkZJRgABAQAAAQABAAD/2wBDAAoHBwgHBgoI...</td>\n",
       "    </tr>\n",
       "    <tr>\n",
       "      <th>12449</th>\n",
       "      <td>10816.jpg</td>\n",
       "      <td>cat</td>\n",
       "      <td>b'/9j/4AAQSkZJRgABAQAAAQABAAD/2wBDAAoHBwgHBgoI...</td>\n",
       "    </tr>\n",
       "    <tr>\n",
       "      <th>12450</th>\n",
       "      <td>2124.jpg</td>\n",
       "      <td>dog</td>\n",
       "      <td>b'/9j/4AAQSkZJRgABAQAAAQABAAD/2wBDAAoHBwgHBgoI...</td>\n",
       "    </tr>\n",
       "    <tr>\n",
       "      <th>12451</th>\n",
       "      <td>11739.jpg</td>\n",
       "      <td>cat</td>\n",
       "      <td>b'/9j/4AAQSkZJRgABAQAAAQABAAD/2wBDAAoHBwgHBgoI...</td>\n",
       "    </tr>\n",
       "  </tbody>\n",
       "</table>\n",
       "<p>12452 rows × 3 columns</p>\n",
       "</div>"
      ],
      "text/plain": [
       "        filename category                               Image_string_base_64\n",
       "0      11835.jpg      dog  b'/9j/4AAQSkZJRgABAQAAAQABAAD/2wBDAAoHBwgHBgoI...\n",
       "1       4737.jpg      dog  b'/9j/4AAQSkZJRgABAQAAAQABAAD/2wBDAAoHBwgHBgoI...\n",
       "2       3323.jpg      dog  b'/9j/4AAQSkZJRgABAQAAAQABAAD/2wBDAAoHBwgHBgoI...\n",
       "3       4758.jpg      cat  b'/9j/4AAQSkZJRgABAQAAAQABAAD/2wBDAAoHBwgHBgoI...\n",
       "4       5678.jpg      cat  b'/9j/4AAQSkZJRgABAQAAAQABAAD/2wBDAAoHBwgHBgoI...\n",
       "...          ...      ...                                                ...\n",
       "12447   6422.jpg      dog  b'/9j/4AAQSkZJRgABAQAAAQABAAD/2wBDAAoHBwgHBgoI...\n",
       "12448   3040.jpg      cat  b'/9j/4AAQSkZJRgABAQAAAQABAAD/2wBDAAoHBwgHBgoI...\n",
       "12449  10816.jpg      cat  b'/9j/4AAQSkZJRgABAQAAAQABAAD/2wBDAAoHBwgHBgoI...\n",
       "12450   2124.jpg      dog  b'/9j/4AAQSkZJRgABAQAAAQABAAD/2wBDAAoHBwgHBgoI...\n",
       "12451  11739.jpg      cat  b'/9j/4AAQSkZJRgABAQAAAQABAAD/2wBDAAoHBwgHBgoI...\n",
       "\n",
       "[12452 rows x 3 columns]"
      ]
     },
     "execution_count": 11,
     "metadata": {},
     "output_type": "execute_result"
    }
   ],
   "source": [
    "df"
   ]
  },
  {
   "cell_type": "markdown",
   "metadata": {},
   "source": [
    "# Coverting Base_64 string into image and saving it into loacl Dir"
   ]
  },
  {
   "cell_type": "code",
   "execution_count": 12,
   "metadata": {},
   "outputs": [],
   "source": [
    "for filename,category,Image_string_base_64 in df.itertuples(index=False):\n",
    "    imgdata = base64.b64decode(Image_string_base_64)\n",
    "    filename = \"Downloded/\" + filename\n",
    "    with open(filename, 'wb') as f:\n",
    "        f.write(imgdata)"
   ]
  },
  {
   "cell_type": "code",
   "execution_count": 13,
   "metadata": {},
   "outputs": [],
   "source": [
    "df = df.drop([\"Image_string_base_64\"], axis = 1) "
   ]
  },
  {
   "cell_type": "markdown",
   "metadata": {},
   "source": [
    "\n",
    "# In real life we always get unblanced data set and if we retarin our model using such data our model get Baised "
   ]
  },
  {
   "cell_type": "code",
   "execution_count": 14,
   "metadata": {},
   "outputs": [
    {
     "data": {
      "text/plain": [
       "cat    6401\n",
       "dog    6051\n",
       "Name: category, dtype: int64"
      ]
     },
     "execution_count": 14,
     "metadata": {},
     "output_type": "execute_result"
    }
   ],
   "source": [
    "df['category'].value_counts()"
   ]
  },
  {
   "cell_type": "code",
   "execution_count": 15,
   "metadata": {},
   "outputs": [
    {
     "data": {
      "text/plain": [
       "<matplotlib.axes._subplots.AxesSubplot at 0x7f2bc9b581d0>"
      ]
     },
     "execution_count": 15,
     "metadata": {},
     "output_type": "execute_result"
    },
    {
     "data": {
      "image/png": "[encoded data removed]",
      "text/plain": [
       "<Figure size 432x288 with 1 Axes>"
      ]
     },
     "metadata": {
      "needs_background": "light"
     },
     "output_type": "display_data"
    }
   ],
   "source": [
    "df['category'].value_counts().plot.bar()"
   ]
  },
  {
   "cell_type": "markdown",
   "metadata": {},
   "source": [
    "# Balancing Data by delating data from a specific class"
   ]
  },
  {
   "cell_type": "code",
   "execution_count": 16,
   "metadata": {},
   "outputs": [],
   "source": [
    "def save():\n",
    "     if df[\"category\"].value_counts()[0] != df[\"category\"].value_counts()[1]:\n",
    "        print(\"yes\")\n",
    "        if df[\"category\"].value_counts()[0] >= df[\"category\"].value_counts()[1]: # cat [5172] >= Dog [4804]\n",
    "            k = df[\"category\"].value_counts()[0] - df[\"category\"].value_counts()[1] # Dog [5172] - cat [4804]\n",
    "            cat = df.loc[df['category'] == \"cat\"] # creating Dataframe that contains only cat data\n",
    "            dog = df.loc[df['category'] == \"dog\"] # creating Dataframe that contains only Dog data\n",
    "            example_df = cat.sample(n=df[\"category\"].value_counts()[1]).reset_index(drop=True) # Droping 384 value from Cat column\n",
    "            t = pd.concat([example_df,dog],axis =0) #concating both DataFrame\n",
    "            return t\n",
    "            \n",
    "        elif df[\"category\"].value_counts()[1] >= df[\"category\"].value_counts()[0]: # 4804 >= 5172\n",
    "            k = df[\"category\"].value_counts()[1] - df[\"category\"].value_counts()[0] # same as above \n",
    "            cat = df.loc[df['category'] == \"cat\"]\n",
    "            dog = df.loc[df['category'] == \"dog\"]\n",
    "            example_df = dog.sample(n=df[\"category\"].value_counts()[0]).reset_index(drop=True)\n",
    "            t1 = pd.concat([example_df,cat],axis =0)\n",
    "            return t1\n",
    "            \n",
    "            "
   ]
  },
  {
   "cell_type": "code",
   "execution_count": 17,
   "metadata": {},
   "outputs": [
    {
     "name": "stdout",
     "output_type": "stream",
     "text": [
      "yes\n"
     ]
    }
   ],
   "source": [
    "df = save()"
   ]
  },
  {
   "cell_type": "code",
   "execution_count": 18,
   "metadata": {},
   "outputs": [
    {
     "data": {
      "text/html": [
       "<div>\n",
       "<style scoped>\n",
       "    .dataframe tbody tr th:only-of-type {\n",
       "        vertical-align: middle;\n",
       "    }\n",
       "\n",
       "    .dataframe tbody tr th {\n",
       "        vertical-align: top;\n",
       "    }\n",
       "\n",
       "    .dataframe thead th {\n",
       "        text-align: right;\n",
       "    }\n",
       "</style>\n",
       "<table border=\"1\" class=\"dataframe\">\n",
       "  <thead>\n",
       "    <tr style=\"text-align: right;\">\n",
       "      <th></th>\n",
       "      <th>filename</th>\n",
       "      <th>category</th>\n",
       "    </tr>\n",
       "  </thead>\n",
       "  <tbody>\n",
       "    <tr>\n",
       "      <th>0</th>\n",
       "      <td>4286.jpg</td>\n",
       "      <td>cat</td>\n",
       "    </tr>\n",
       "    <tr>\n",
       "      <th>1</th>\n",
       "      <td>8716.jpg</td>\n",
       "      <td>cat</td>\n",
       "    </tr>\n",
       "    <tr>\n",
       "      <th>2</th>\n",
       "      <td>867.jpg</td>\n",
       "      <td>cat</td>\n",
       "    </tr>\n",
       "    <tr>\n",
       "      <th>3</th>\n",
       "      <td>6362.jpg</td>\n",
       "      <td>cat</td>\n",
       "    </tr>\n",
       "    <tr>\n",
       "      <th>4</th>\n",
       "      <td>1862.jpg</td>\n",
       "      <td>cat</td>\n",
       "    </tr>\n",
       "    <tr>\n",
       "      <th>...</th>\n",
       "      <td>...</td>\n",
       "      <td>...</td>\n",
       "    </tr>\n",
       "    <tr>\n",
       "      <th>12441</th>\n",
       "      <td>2923.jpg</td>\n",
       "      <td>dog</td>\n",
       "    </tr>\n",
       "    <tr>\n",
       "      <th>12442</th>\n",
       "      <td>10329.jpg</td>\n",
       "      <td>dog</td>\n",
       "    </tr>\n",
       "    <tr>\n",
       "      <th>12445</th>\n",
       "      <td>6665.jpg</td>\n",
       "      <td>dog</td>\n",
       "    </tr>\n",
       "    <tr>\n",
       "      <th>12447</th>\n",
       "      <td>6422.jpg</td>\n",
       "      <td>dog</td>\n",
       "    </tr>\n",
       "    <tr>\n",
       "      <th>12450</th>\n",
       "      <td>2124.jpg</td>\n",
       "      <td>dog</td>\n",
       "    </tr>\n",
       "  </tbody>\n",
       "</table>\n",
       "<p>12102 rows × 2 columns</p>\n",
       "</div>"
      ],
      "text/plain": [
       "        filename category\n",
       "0       4286.jpg      cat\n",
       "1       8716.jpg      cat\n",
       "2        867.jpg      cat\n",
       "3       6362.jpg      cat\n",
       "4       1862.jpg      cat\n",
       "...          ...      ...\n",
       "12441   2923.jpg      dog\n",
       "12442  10329.jpg      dog\n",
       "12445   6665.jpg      dog\n",
       "12447   6422.jpg      dog\n",
       "12450   2124.jpg      dog\n",
       "\n",
       "[12102 rows x 2 columns]"
      ]
     },
     "execution_count": 18,
     "metadata": {},
     "output_type": "execute_result"
    }
   ],
   "source": [
    "df"
   ]
  },
  {
   "cell_type": "code",
   "execution_count": 19,
   "metadata": {},
   "outputs": [
    {
     "data": {
      "text/plain": [
       "dog    6051\n",
       "cat    6051\n",
       "Name: category, dtype: int64"
      ]
     },
     "execution_count": 19,
     "metadata": {},
     "output_type": "execute_result"
    }
   ],
   "source": [
    "df['category'].value_counts()"
   ]
  },
  {
   "cell_type": "code",
   "execution_count": 20,
   "metadata": {},
   "outputs": [
    {
     "data": {
      "text/plain": [
       "<matplotlib.axes._subplots.AxesSubplot at 0x7f2b80721f90>"
      ]
     },
     "execution_count": 20,
     "metadata": {},
     "output_type": "execute_result"
    },
    {
     "data": {
      "image/png": "[encoded data removed]",
      "text/plain": [
       "<Figure size 432x288 with 1 Axes>"
      ]
     },
     "metadata": {
      "needs_background": "light"
     },
     "output_type": "display_data"
    }
   ],
   "source": [
    "df['category'].value_counts().plot.bar()"
   ]
  },
  {
   "cell_type": "markdown",
   "metadata": {},
   "source": [
    "# Spliiting Train and Validation Data for retrain the model "
   ]
  },
  {
   "cell_type": "code",
   "execution_count": 21,
   "metadata": {},
   "outputs": [],
   "source": [
    "train_df, validate_df = train_test_split(df, test_size=0.20, random_state=42)\n"
   ]
  },
  {
   "cell_type": "code",
   "execution_count": 22,
   "metadata": {},
   "outputs": [
    {
     "data": {
      "text/plain": [
       "dog    4851\n",
       "cat    4830\n",
       "Name: category, dtype: int64"
      ]
     },
     "execution_count": 22,
     "metadata": {},
     "output_type": "execute_result"
    }
   ],
   "source": [
    "train_df['category'].value_counts()"
   ]
  },
  {
   "cell_type": "code",
   "execution_count": 23,
   "metadata": {},
   "outputs": [
    {
     "data": {
      "text/plain": [
       "<matplotlib.axes._subplots.AxesSubplot at 0x7f2bc9b51b90>"
      ]
     },
     "execution_count": 23,
     "metadata": {},
     "output_type": "execute_result"
    },
    {
     "data": {
      "image/png": "[encoded data removed]",
      "text/plain": [
       "<Figure size 432x288 with 1 Axes>"
      ]
     },
     "metadata": {
      "needs_background": "light"
     },
     "output_type": "display_data"
    }
   ],
   "source": [
    "train_df['category'].value_counts().plot.bar()"
   ]
  },
  {
   "cell_type": "code",
   "execution_count": 24,
   "metadata": {},
   "outputs": [
    {
     "data": {
      "text/plain": [
       "cat    1221\n",
       "dog    1200\n",
       "Name: category, dtype: int64"
      ]
     },
     "execution_count": 24,
     "metadata": {},
     "output_type": "execute_result"
    }
   ],
   "source": [
    "validate_df['category'].value_counts()"
   ]
  },
  {
   "cell_type": "code",
   "execution_count": 25,
   "metadata": {},
   "outputs": [
    {
     "data": {
      "text/plain": [
       "<matplotlib.axes._subplots.AxesSubplot at 0x7f2b807a1650>"
      ]
     },
     "execution_count": 25,
     "metadata": {},
     "output_type": "execute_result"
    },
    {
     "data": {
      "image/png": "[encoded data removed]",
      "text/plain": [
       "<Figure size 432x288 with 1 Axes>"
      ]
     },
     "metadata": {
      "needs_background": "light"
     },
     "output_type": "display_data"
    }
   ],
   "source": [
    "validate_df['category'].value_counts().plot.bar()"
   ]
  },
  {
   "cell_type": "code",
   "execution_count": 26,
   "metadata": {},
   "outputs": [],
   "source": [
    "total_train = train_df.shape[0] # 20000\n",
    "total_validate = validate_df.shape[0] # 500\n",
    "batch_size=15"
   ]
  },
  {
   "cell_type": "markdown",
   "metadata": {},
   "source": [
    "\n",
    "# Loading Training and val Data from local dir ( these are those images which has been converted from base_64 string to image in local Dir)"
   ]
  },
  {
   "cell_type": "code",
   "execution_count": 27,
   "metadata": {},
   "outputs": [],
   "source": [
    "FAST_RUN = False\n",
    "IMAGE_WIDTH=224\n",
    "IMAGE_HEIGHT=224\n",
    "IMAGE_SIZE=[IMAGE_WIDTH, IMAGE_HEIGHT]\n",
    "IMAGE_CHANNELS=3"
   ]
  },
  {
   "cell_type": "code",
   "execution_count": 28,
   "metadata": {},
   "outputs": [
    {
     "name": "stdout",
     "output_type": "stream",
     "text": [
      "Found 9681 validated image filenames belonging to 2 classes.\n"
     ]
    }
   ],
   "source": [
    "train_datagen = ImageDataGenerator(\n",
    "    rotation_range=15,\n",
    "    rescale=1./255,\n",
    "    shear_range=0.1,\n",
    "    zoom_range=0.2,\n",
    "    horizontal_flip=True,\n",
    "    width_shift_range=0.1,\n",
    "    height_shift_range=0.1\n",
    ")\n",
    "\n",
    "train_generator = train_datagen.flow_from_dataframe(\n",
    "    train_df, \n",
    "    \"Downloded/\", \n",
    "    x_col='filename',\n",
    "    y_col='category',\n",
    "    target_size=IMAGE_SIZE,\n",
    "    class_mode='categorical',\n",
    "    batch_size=batch_size\n",
    ")"
   ]
  },
  {
   "cell_type": "code",
   "execution_count": 29,
   "metadata": {},
   "outputs": [
    {
     "name": "stdout",
     "output_type": "stream",
     "text": [
      "Found 2421 validated image filenames belonging to 2 classes.\n"
     ]
    }
   ],
   "source": [
    "validation_datagen = ImageDataGenerator(rescale=1./255)\n",
    "\n",
    "validation_generator = validation_datagen.flow_from_dataframe(\n",
    "    validate_df, \n",
    "    \"Downloded/\", \n",
    "    x_col='filename',\n",
    "    y_col='category',\n",
    "    target_size=IMAGE_SIZE,\n",
    "    class_mode='categorical',\n",
    "    batch_size=batch_size\n",
    ")"
   ]
  },
  {
   "cell_type": "code",
   "execution_count": 30,
   "metadata": {},
   "outputs": [],
   "source": [
    "from keras.callbacks import EarlyStopping, ReduceLROnPlateau"
   ]
  },
  {
   "cell_type": "code",
   "execution_count": 31,
   "metadata": {},
   "outputs": [],
   "source": [
    "earlystop = EarlyStopping(patience=10)\n",
    "learning_rate_reduction = ReduceLROnPlateau(monitor='val_acc', \n",
    "                                            patience=2, \n",
    "                                            verbose=1, \n",
    "                                            factor=0.5, \n",
    "                                            min_lr=0.00001)\n",
    "\n",
    "callbacks = [earlystop, learning_rate_reduction]"
   ]
  },
  {
   "cell_type": "code",
   "execution_count": 32,
   "metadata": {},
   "outputs": [],
   "source": [
    "model.compile(\n",
    "  loss='categorical_crossentropy',\n",
    "  optimizer='adam',\n",
    "  metrics=['accuracy']\n",
    ")"
   ]
  },
  {
   "cell_type": "markdown",
   "metadata": {},
   "source": [
    "# Retranning the model and save into mongodb so that we can use it in production"
   ]
  },
  {
   "cell_type": "code",
   "execution_count": 33,
   "metadata": {},
   "outputs": [
    {
     "name": "stdout",
     "output_type": "stream",
     "text": [
      "Epoch 1/2\n",
      "645/645 [==============================] - 307s 477ms/step - loss: 2.0081 - accuracy: 0.9539 - val_loss: 3.4494 - val_accuracy: 0.9553\n",
      "Epoch 2/2\n"
     ]
    },
    {
     "name": "stderr",
     "output_type": "stream",
     "text": [
      "/home/nitin/anaconda3/lib/python3.7/site-packages/keras/callbacks/callbacks.py:1042: RuntimeWarning: Reduce LR on plateau conditioned on metric `val_acc` which is not available. Available metrics are: val_loss,val_accuracy,loss,accuracy,lr\n",
      "  (self.monitor, ','.join(list(logs.keys()))), RuntimeWarning\n"
     ]
    },
    {
     "name": "stdout",
     "output_type": "stream",
     "text": [
      "645/645 [==============================] - 307s 476ms/step - loss: 2.1997 - accuracy: 0.9527 - val_loss: 0.0000e+00 - val_accuracy: 0.9676\n"
     ]
    }
   ],
   "source": [
    "epochs=2\n",
    "\n",
    "\n",
    "history = model.fit_generator(\n",
    "    train_generator, \n",
    "    epochs=epochs,\n",
    "    validation_data=validation_generator,\n",
    "    validation_steps=total_validate//batch_size,\n",
    "    steps_per_epoch=total_train//batch_size,\n",
    "    callbacks=callbacks\n",
    ")\n"
   ]
  },
  {
   "cell_type": "code",
   "execution_count": 34,
   "metadata": {},
   "outputs": [
    {
     "data": {
      "text/plain": [
       "'Model_Accuracy_95.0%'"
      ]
     },
     "execution_count": 34,
     "metadata": {},
     "output_type": "execute_result"
    }
   ],
   "source": [
    "Accuracy = history.history['accuracy']\n",
    "Accuracy =  Accuracy.pop()\n",
    "Accuracy = Accuracy*100\n",
    "Accuracy  = round(Accuracy)\n",
    "Accuracy = str(Accuracy)\n",
    "Accuracy = \"Model_Accuracy_\" + Accuracy + \"%\" \n",
    "Accuracy"
   ]
  },
  {
   "cell_type": "markdown",
   "metadata": {},
   "source": [
    "# Exporting Retrained Model to Mongodb "
   ]
  },
  {
   "cell_type": "code",
   "execution_count": 35,
   "metadata": {},
   "outputs": [],
   "source": [
    "def save_model_to_db(model, client, db, dbconnection, model_name):\n",
    "    import pickle\n",
    "    import time\n",
    "    import pymongo\n",
    "    #pickling the model\n",
    "    pickled_model = pickle.dumps(model)\n",
    "    \n",
    "    #saving model to mongoDB\n",
    "    # creating connection\n",
    "    myclient = pymongo.MongoClient(client)\n",
    "    \n",
    "    #creating database in mongodb\n",
    "    mydb = myclient[db]\n",
    "    \n",
    "    #creating collection\n",
    "    mycon = mydb[dbconnection]\n",
    "    info = mycon.insert_one({model_name: pickled_model, 'name': model_name, 'created_time':time.time()})\n",
    "    print(info.inserted_id, ' saved with this id successfully!')\n",
    "    \n",
    "    details = {\n",
    "        'inserted_id':info.inserted_id,\n",
    "        'model_name':model_name,\n",
    "        'created_time':time.time()\n",
    "    }\n",
    "    print(details)\n",
    "    return details"
   ]
  },
  {
   "cell_type": "code",
   "execution_count": 36,
   "metadata": {},
   "outputs": [
    {
     "name": "stdout",
     "output_type": "stream",
     "text": [
      "5eb7ed4b6b499e59f4642094  saved with this id successfully!\n",
      "{'inserted_id': ObjectId('5eb7ed4b6b499e59f4642094'), 'model_name': 'CNN', 'created_time': 1589112140.0111814}\n"
     ]
    }
   ],
   "source": [
    "details = save_model_to_db(model = model, client ='mongodb://localhost:27017/', db = 'Cat_dog_classifier', \n",
    "                 dbconnection = Accuracy, model_name = \"CNN\")"
   ]
  },
  {
   "cell_type": "code",
   "execution_count": null,
   "metadata": {},
   "outputs": [],
   "source": []
  }
 ],
 "metadata": {
  "kernelspec": {
   "display_name": "Python 3",
   "language": "python",
   "name": "python3"
  },
  "language_info": {
   "codemirror_mode": {
    "name": "ipython",
    "version": 3
   },
   "file_extension": ".py",
   "mimetype": "text/x-python",
   "name": "python",
   "nbconvert_exporter": "python",
   "pygments_lexer": "ipython3",
   "version": "3.7.5"
  }
 },
 "nbformat": 4,
 "nbformat_minor": 2
}
